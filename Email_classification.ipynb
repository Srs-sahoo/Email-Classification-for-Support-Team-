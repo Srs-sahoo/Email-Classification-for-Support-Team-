{
 "cells": [
  {
   "cell_type": "code",
   "execution_count": 19,
   "id": "78cc2429-1ddd-469f-9c35-65e64d6613ea",
   "metadata": {},
   "outputs": [
    {
     "name": "stdout",
     "output_type": "stream",
     "text": [
      "              precision    recall  f1-score   support\n",
      "\n",
      "      Change       0.92      0.82      0.87       479\n",
      "    Incident       0.71      0.82      0.77      1920\n",
      "     Problem       0.56      0.41      0.48      1009\n",
      "     Request       0.92      0.93      0.92      1392\n",
      "\n",
      "    accuracy                           0.77      4800\n",
      "   macro avg       0.78      0.75      0.76      4800\n",
      "weighted avg       0.76      0.77      0.76      4800\n",
      "\n"
     ]
    },
    {
     "data": {
      "text/plain": [
       "['email_classifier_svm.pkl']"
      ]
     },
     "execution_count": 19,
     "metadata": {},
     "output_type": "execute_result"
    }
   ],
   "source": [
    "from sklearn.feature_extraction.text import TfidfVectorizer\n",
    "from sklearn.model_selection import train_test_split\n",
    "from sklearn.svm import LinearSVC\n",
    "from sklearn.pipeline import Pipeline\n",
    "from sklearn.metrics import classification_report\n",
    "import pandas as pd\n",
    "import joblib\n",
    "\n",
    "df = pd.read_csv(\"C:/Users/qwert/Music/Visual Studio 2017/Email_classification/combined_emails_with_natural_pii.csv\")\n",
    "\n",
    "X_train, X_test, y_train, y_test = train_test_split(df[\"email\"], df[\"type\"], test_size=0.2, random_state=42)\n",
    "\n",
    "clf_pipeline = Pipeline([\n",
    "    (\"tfidf\", TfidfVectorizer(stop_words='english')),\n",
    "    (\"svm\", LinearSVC())\n",
    "])\n",
    "\n",
    "clf_pipeline.fit(X_train, y_train)\n",
    "\n",
    "y_pred = clf_pipeline.predict(X_test)\n",
    "print(classification_report(y_test, y_pred))\n",
    "joblib.dump(clf_pipeline, \"email_classifier_svm.pkl\")"
   ]
  },
  {
   "cell_type": "code",
   "execution_count": null,
   "id": "93138249",
   "metadata": {},
   "outputs": [],
   "source": []
  }
 ],
 "metadata": {
  "kernelspec": {
   "display_name": "myenv",
   "language": "python",
   "name": "python3"
  },
  "language_info": {
   "codemirror_mode": {
    "name": "ipython",
    "version": 3
   },
   "file_extension": ".py",
   "mimetype": "text/x-python",
   "name": "python",
   "nbconvert_exporter": "python",
   "pygments_lexer": "ipython3",
   "version": "3.13.3"
  }
 },
 "nbformat": 4,
 "nbformat_minor": 5
}
